{
 "cells": [
  {
   "cell_type": "code",
   "execution_count": null,
   "metadata": {
    "collapsed": true
   },
   "outputs": [],
   "source": [
    "###Evaluation for clustering\n",
    "#km = KMeans(n_clusters=true_k, init='k-means++', verbose=0)\n",
    "%### Zif's law https://en.wikipedia.org/wiki/Zipf%27s_law"
   ]
  },
  {
   "cell_type": "markdown",
   "metadata": {},
   "source": [
    "### Kmeans clustering\n",
    "1. demo https://www.naftaliharris.com/blog/visualizing-k-means-clustering/"
   ]
  },
  {
   "cell_type": "markdown",
   "metadata": {},
   "source": [
    "### Evaluation for clusterings\n",
    "1. Not given labels:\n",
    "    1. Compactness, Separation...\n",
    "2. Given labels(ground truth):\n",
    "    1. Pairwise measures\n",
    "    2. Entropy based measures\n",
    "3. Additional Resources:\n",
    "    1. https://zh.coursera.org/learn/cluster-analysis/lecture/RJJfM/6-2-clustering-evaluation-measuring-clustering-quality"
   ]
  },
  {
   "cell_type": "markdown",
   "metadata": {},
   "source": [
    "### Homogeneity\n",
    "1. A clustering result satisfies homogeneity if all of its clusters contain only data points which are members of a single class. http://scikit-learn.org/stable/modules/generated/sklearn.metrics.homogeneity_score.html\n",
    "\n",
    "Here C is the classes, K is the clusters.\n",
    "<img src=\"homogeneity.png\"/>\n",
    "\n",
    "\n",
    "### Completeness \n",
    "1. A clustering result satisfies completeness if all the data points that are members of a given class are elements of the same cluster.http://scikit-learn.org/stable/modules/generated/sklearn.metrics.completeness_score.html#sklearn.metrics.completeness_score\n",
    "<img src=\"completeness.png\"/>\n",
    "\n",
    "### Adjusted Rand Score\n",
    "1. The Rand Index computes a similarity measure between two clusterings by considering all pairs of samples and counting pairs that are assigned in the same or different clusters in the predicted and true clusterings.\n",
    "http://scikit-learn.org/stable/modules/generated/sklearn.metrics.adjusted_rand_score.html#sklearn.metrics.adjusted_rand_score\n",
    "2. Example for Rand Index: https://nlp.stanford.edu/IR-book/html/htmledition/evaluation-of-clustering-1.html\n",
    "\n",
    "### Adjusted Mutual Info Score\n",
    "1. Adjusted Mutual Information (AMI) is an adjustment of the Mutual Information (MI) score to account for chance. \n",
    "http://scikit-learn.org/stable/modules/generated/sklearn.metrics.adjusted_mutual_info_score.html#sklearn.metrics.adjusted_mutual_info_score\n",
    "https://en.wikipedia.org/wiki/Adjusted_mutual_information\n",
    "2. MI: https://nlp.stanford.edu/IR-book/html/htmledition/evaluation-of-clustering-1.html"
   ]
  },
  {
   "cell_type": "code",
   "execution_count": 1,
   "metadata": {},
   "outputs": [
    {
     "name": "stdout",
     "output_type": "stream",
     "text": [
      "1.0\n",
      "0.383688546596\n",
      "1.0\n",
      "0.0\n",
      "0.0\n"
     ]
    }
   ],
   "source": [
    "from sklearn.metrics.cluster import homogeneity_score,completeness_score, adjusted_rand_score, adjusted_mutual_info_score\n",
    "\n",
    "print(homogeneity_score([0, 0, 1, 1], [1, 1, 0, 0]))\n",
    "print(homogeneity_score([0, 1, 1, 1], [1, 1, 0, 0])) \n",
    "## Completeness\n",
    "print(completeness_score([0, 1, 2, 3], [0, 0, 1, 1]))\n",
    "print(completeness_score([0, 0, 1, 1], [0, 1, 0, 1]))\n",
    "print(completeness_score([0, 0, 0, 0], [0, 1, 2, 3]))"
   ]
  },
  {
   "cell_type": "code",
   "execution_count": null,
   "metadata": {
    "collapsed": true
   },
   "outputs": [],
   "source": []
  }
 ],
 "metadata": {
  "kernelspec": {
   "display_name": "Python 3",
   "language": "python",
   "name": "python3"
  },
  "language_info": {
   "codemirror_mode": {
    "name": "ipython",
    "version": 3
   },
   "file_extension": ".py",
   "mimetype": "text/x-python",
   "name": "python",
   "nbconvert_exporter": "python",
   "pygments_lexer": "ipython3",
   "version": "3.6.2"
  }
 },
 "nbformat": 4,
 "nbformat_minor": 2
}
