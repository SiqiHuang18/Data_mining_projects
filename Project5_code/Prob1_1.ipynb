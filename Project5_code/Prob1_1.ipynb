{
 "cells": [
  {
   "cell_type": "code",
   "execution_count": 1,
   "metadata": {
    "collapsed": true
   },
   "outputs": [],
   "source": [
    "#Q1"
   ]
  },
  {
   "cell_type": "code",
   "execution_count": 2,
   "metadata": {},
   "outputs": [
    {
     "data": {
      "text/plain": [
       "['tweets_#gohawks.txt',\n",
       " 'tweets_#gopatriots.txt',\n",
       " 'tweets_#nfl.txt',\n",
       " 'tweets_#patriots.txt',\n",
       " 'tweets_#sb49.txt',\n",
       " 'tweets_#superbowl.txt']"
      ]
     },
     "execution_count": 2,
     "metadata": {},
     "output_type": "execute_result"
    }
   ],
   "source": [
    "import json\n",
    "import os\n",
    "folder = \"ECE219_tweet_data\" \n",
    "files= os.listdir(folder) \n",
    "files"
   ]
  },
  {
   "cell_type": "code",
   "execution_count": 3,
   "metadata": {
    "collapsed": true
   },
   "outputs": [],
   "source": [
    "import numpy as np\n",
    "import pandas as pd\n",
    "import matplotlib.pyplot as plt"
   ]
  },
  {
   "cell_type": "code",
   "execution_count": 4,
   "metadata": {},
   "outputs": [
    {
     "name": "stdout",
     "output_type": "stream",
     "text": [
      "1423304269\n",
      "1421222681\n",
      "578.2188888888888\n",
      "340478\n",
      "375099698.0\n",
      "169122\n",
      "statistics for gohawks.txt\n",
      "Average number of tweets per hour:292.48785062173687\n",
      "Average number of followers:2217.9237355281984\n",
      "Average number of retweets:2.0132093991319877\n"
     ]
    }
   ],
   "source": [
    "tweet_numberhawk=0\n",
    "followerhawk=0\n",
    "retweethawk=0\n",
    "hourhawk = []\n",
    "tweethourhawk=0\n",
    "with open('ECE219_tweet_data/tweets_#gohawks.txt', 'r') as file1:\n",
    "     for line in file1:\n",
    "        data1 = json.loads(line)\n",
    "        posttime1 = data1['citation_date']\n",
    "        retweet1=data1['metrics']['citations']['total']\n",
    "        follower1=data1['author']['followers']\n",
    "        hourhawk.append(posttime1)\n",
    "        tweet_numberhawk=tweet_numberhawk + 1\n",
    "        followerhawk=follower1+followerhawk\n",
    "        retweethawk=retweet1+retweethawk\n",
    "max1=max(hourhawk)\n",
    "min1=min(hourhawk)\n",
    "tweethourhawk=tweethourhawk+((max1-min1)/3600)\n",
    "print(max1)\n",
    "print(min1)\n",
    "print(tweethourhawk)\n",
    "print(retweethawk)\n",
    "print(followerhawk)\n",
    "print(tweet_numberhawk)\n",
    "print('statistics for gohawks.txt')\n",
    "print ('Average number of tweets per hour:' + str(tweet_numberhawk/tweethourhawk))\n",
    "print ('Average number of followers:'+ str(followerhawk/tweet_numberhawk))\n",
    "print ('Average number of retweets:' + str(retweethawk/tweet_numberhawk))\n"
   ]
  },
  {
   "cell_type": "code",
   "execution_count": 5,
   "metadata": {},
   "outputs": [
    {
     "name": "stdout",
     "output_type": "stream",
     "text": [
      "1423295675\n",
      "1421229011\n",
      "574.0733333333334\n",
      "33108\n",
      "33556136.0\n",
      "23511\n",
      "statistics for gopatriots.txt\n",
      "Average number of tweets per hour:40.95469800606194\n",
      "Average number of followers:1427.2526051635405\n",
      "Average number of retweets:1.4081919101697078\n"
     ]
    }
   ],
   "source": [
    "tweet_numberpat=0\n",
    "followerpat=0\n",
    "retweetpat=0\n",
    "hourpat = []\n",
    "tweethourpat=0\n",
    "with open('ECE219_tweet_data/tweets_#gopatriots.txt', 'r') as file2:\n",
    "     for line in file2:\n",
    "        data2 = json.loads(line)\n",
    "        posttime2 = data2['citation_date']\n",
    "        retweet2=data2['metrics']['citations']['total']\n",
    "        follower2=data2['author']['followers']\n",
    "        \n",
    "        hourpat.append(posttime2)\n",
    "        tweet_numberpat=tweet_numberpat + 1\n",
    "        followerpat=follower2+followerpat\n",
    "        retweetpat=retweet2+retweetpat\n",
    "max2=max(hourpat)\n",
    "min2=min(hourpat)\n",
    "tweethourpat=tweethourpat+((max2-min2)/3600)\n",
    "print(max2)\n",
    "print(min2)\n",
    "print(tweethourpat)\n",
    "print(retweetpat)\n",
    "print(followerpat)\n",
    "print(tweet_numberpat)\n",
    "print('statistics for gopatriots.txt')\n",
    "print ('Average number of tweets per hour:' + str(tweet_numberpat/tweethourpat))\n",
    "print ('Average number of followers:'+ str(followerpat/tweet_numberpat))\n",
    "print ('Average number of retweets:' + str(retweetpat/tweet_numberpat))\n"
   ]
  },
  {
   "cell_type": "code",
   "execution_count": 6,
   "metadata": {},
   "outputs": [
    {
     "name": "stdout",
     "output_type": "stream",
     "text": [
      "statistics for nfl.txt\n",
      "Average number of tweets per hour:397.0213901819841\n",
      "Average number of followers:4662.37544523693\n",
      "Average number of retweets:1.5344602655543254\n"
     ]
    }
   ],
   "source": [
    "tweet_numbernfl=0\n",
    "followernfl=0\n",
    "retweetnfl=0\n",
    "hournfl = []\n",
    "tweethournfl=0\n",
    "with open('ECE219_tweet_data/tweets_#nfl.txt', 'r') as file3:\n",
    "     for line in file3:\n",
    "        data3 = json.loads(line)\n",
    "        posttime3 = data3['citation_date']\n",
    "        retweet3=data3['metrics']['citations']['total']\n",
    "        follower3=data3['author']['followers']\n",
    "        hournfl.append(posttime3)\n",
    "        tweet_numbernfl=tweet_numbernfl + 1\n",
    "        followernfl=follower3+followernfl\n",
    "        retweetnfl=retweet3+retweetnfl\n",
    "max3=max(hournfl)\n",
    "min3=min(hournfl)\n",
    "tweethournfl=tweethournfl+((max3-min3)/3600)\n",
    "print('statistics for nfl.txt')\n",
    "print ('Average number of tweets per hour:' + str(tweet_numbernfl/tweethournfl))\n",
    "print ('Average number of followers:'+ str(followernfl/tweet_numbernfl))\n",
    "print ('Average number of retweets:' + str(retweetnfl/tweet_numbernfl))\n"
   ]
  },
  {
   "cell_type": "code",
   "execution_count": 7,
   "metadata": {},
   "outputs": [
    {
     "ename": "KeyboardInterrupt",
     "evalue": "",
     "output_type": "error",
     "traceback": [
      "\u001b[0;31m---------------------------------------------------------------------------\u001b[0m",
      "\u001b[0;31mKeyboardInterrupt\u001b[0m                         Traceback (most recent call last)",
      "\u001b[0;32m<ipython-input-7-4c357748a739>\u001b[0m in \u001b[0;36m<module>\u001b[0;34m()\u001b[0m\n\u001b[1;32m      6\u001b[0m \u001b[0;32mwith\u001b[0m \u001b[0mopen\u001b[0m\u001b[0;34m(\u001b[0m\u001b[0;34m'ECE219_tweet_data/tweets_#patriots.txt'\u001b[0m\u001b[0;34m,\u001b[0m \u001b[0;34m'r'\u001b[0m\u001b[0;34m)\u001b[0m \u001b[0;32mas\u001b[0m \u001b[0mfile4\u001b[0m\u001b[0;34m:\u001b[0m\u001b[0;34m\u001b[0m\u001b[0;34m\u001b[0m\u001b[0m\n\u001b[1;32m      7\u001b[0m      \u001b[0;32mfor\u001b[0m \u001b[0mline\u001b[0m \u001b[0;32min\u001b[0m \u001b[0mfile4\u001b[0m\u001b[0;34m:\u001b[0m\u001b[0;34m\u001b[0m\u001b[0;34m\u001b[0m\u001b[0m\n\u001b[0;32m----> 8\u001b[0;31m         \u001b[0mdata4\u001b[0m \u001b[0;34m=\u001b[0m \u001b[0mjson\u001b[0m\u001b[0;34m.\u001b[0m\u001b[0mloads\u001b[0m\u001b[0;34m(\u001b[0m\u001b[0mline\u001b[0m\u001b[0;34m)\u001b[0m\u001b[0;34m\u001b[0m\u001b[0;34m\u001b[0m\u001b[0m\n\u001b[0m\u001b[1;32m      9\u001b[0m         \u001b[0mposttime4\u001b[0m \u001b[0;34m=\u001b[0m \u001b[0mdata4\u001b[0m\u001b[0;34m[\u001b[0m\u001b[0;34m'citation_date'\u001b[0m\u001b[0;34m]\u001b[0m\u001b[0;34m\u001b[0m\u001b[0;34m\u001b[0m\u001b[0m\n\u001b[1;32m     10\u001b[0m         \u001b[0mretweet4\u001b[0m\u001b[0;34m=\u001b[0m\u001b[0mdata4\u001b[0m\u001b[0;34m[\u001b[0m\u001b[0;34m'metrics'\u001b[0m\u001b[0;34m]\u001b[0m\u001b[0;34m[\u001b[0m\u001b[0;34m'citations'\u001b[0m\u001b[0;34m]\u001b[0m\u001b[0;34m[\u001b[0m\u001b[0;34m'total'\u001b[0m\u001b[0;34m]\u001b[0m\u001b[0;34m\u001b[0m\u001b[0;34m\u001b[0m\u001b[0m\n",
      "\u001b[0;32m~/anaconda3/lib/python3.6/json/__init__.py\u001b[0m in \u001b[0;36mloads\u001b[0;34m(s, encoding, cls, object_hook, parse_float, parse_int, parse_constant, object_pairs_hook, **kw)\u001b[0m\n\u001b[1;32m    352\u001b[0m             \u001b[0mparse_int\u001b[0m \u001b[0;32mis\u001b[0m \u001b[0;32mNone\u001b[0m \u001b[0;32mand\u001b[0m \u001b[0mparse_float\u001b[0m \u001b[0;32mis\u001b[0m \u001b[0;32mNone\u001b[0m \u001b[0;32mand\u001b[0m\u001b[0;34m\u001b[0m\u001b[0;34m\u001b[0m\u001b[0m\n\u001b[1;32m    353\u001b[0m             parse_constant is None and object_pairs_hook is None and not kw):\n\u001b[0;32m--> 354\u001b[0;31m         \u001b[0;32mreturn\u001b[0m \u001b[0m_default_decoder\u001b[0m\u001b[0;34m.\u001b[0m\u001b[0mdecode\u001b[0m\u001b[0;34m(\u001b[0m\u001b[0ms\u001b[0m\u001b[0;34m)\u001b[0m\u001b[0;34m\u001b[0m\u001b[0;34m\u001b[0m\u001b[0m\n\u001b[0m\u001b[1;32m    355\u001b[0m     \u001b[0;32mif\u001b[0m \u001b[0mcls\u001b[0m \u001b[0;32mis\u001b[0m \u001b[0;32mNone\u001b[0m\u001b[0;34m:\u001b[0m\u001b[0;34m\u001b[0m\u001b[0;34m\u001b[0m\u001b[0m\n\u001b[1;32m    356\u001b[0m         \u001b[0mcls\u001b[0m \u001b[0;34m=\u001b[0m \u001b[0mJSONDecoder\u001b[0m\u001b[0;34m\u001b[0m\u001b[0;34m\u001b[0m\u001b[0m\n",
      "\u001b[0;32m~/anaconda3/lib/python3.6/json/decoder.py\u001b[0m in \u001b[0;36mdecode\u001b[0;34m(self, s, _w)\u001b[0m\n\u001b[1;32m    337\u001b[0m \u001b[0;34m\u001b[0m\u001b[0m\n\u001b[1;32m    338\u001b[0m         \"\"\"\n\u001b[0;32m--> 339\u001b[0;31m         \u001b[0mobj\u001b[0m\u001b[0;34m,\u001b[0m \u001b[0mend\u001b[0m \u001b[0;34m=\u001b[0m \u001b[0mself\u001b[0m\u001b[0;34m.\u001b[0m\u001b[0mraw_decode\u001b[0m\u001b[0;34m(\u001b[0m\u001b[0ms\u001b[0m\u001b[0;34m,\u001b[0m \u001b[0midx\u001b[0m\u001b[0;34m=\u001b[0m\u001b[0m_w\u001b[0m\u001b[0;34m(\u001b[0m\u001b[0ms\u001b[0m\u001b[0;34m,\u001b[0m \u001b[0;36m0\u001b[0m\u001b[0;34m)\u001b[0m\u001b[0;34m.\u001b[0m\u001b[0mend\u001b[0m\u001b[0;34m(\u001b[0m\u001b[0;34m)\u001b[0m\u001b[0;34m)\u001b[0m\u001b[0;34m\u001b[0m\u001b[0;34m\u001b[0m\u001b[0m\n\u001b[0m\u001b[1;32m    340\u001b[0m         \u001b[0mend\u001b[0m \u001b[0;34m=\u001b[0m \u001b[0m_w\u001b[0m\u001b[0;34m(\u001b[0m\u001b[0ms\u001b[0m\u001b[0;34m,\u001b[0m \u001b[0mend\u001b[0m\u001b[0;34m)\u001b[0m\u001b[0;34m.\u001b[0m\u001b[0mend\u001b[0m\u001b[0;34m(\u001b[0m\u001b[0;34m)\u001b[0m\u001b[0;34m\u001b[0m\u001b[0;34m\u001b[0m\u001b[0m\n\u001b[1;32m    341\u001b[0m         \u001b[0;32mif\u001b[0m \u001b[0mend\u001b[0m \u001b[0;34m!=\u001b[0m \u001b[0mlen\u001b[0m\u001b[0;34m(\u001b[0m\u001b[0ms\u001b[0m\u001b[0;34m)\u001b[0m\u001b[0;34m:\u001b[0m\u001b[0;34m\u001b[0m\u001b[0;34m\u001b[0m\u001b[0m\n",
      "\u001b[0;32m~/anaconda3/lib/python3.6/json/decoder.py\u001b[0m in \u001b[0;36mraw_decode\u001b[0;34m(self, s, idx)\u001b[0m\n\u001b[1;32m    353\u001b[0m         \"\"\"\n\u001b[1;32m    354\u001b[0m         \u001b[0;32mtry\u001b[0m\u001b[0;34m:\u001b[0m\u001b[0;34m\u001b[0m\u001b[0;34m\u001b[0m\u001b[0m\n\u001b[0;32m--> 355\u001b[0;31m             \u001b[0mobj\u001b[0m\u001b[0;34m,\u001b[0m \u001b[0mend\u001b[0m \u001b[0;34m=\u001b[0m \u001b[0mself\u001b[0m\u001b[0;34m.\u001b[0m\u001b[0mscan_once\u001b[0m\u001b[0;34m(\u001b[0m\u001b[0ms\u001b[0m\u001b[0;34m,\u001b[0m \u001b[0midx\u001b[0m\u001b[0;34m)\u001b[0m\u001b[0;34m\u001b[0m\u001b[0;34m\u001b[0m\u001b[0m\n\u001b[0m\u001b[1;32m    356\u001b[0m         \u001b[0;32mexcept\u001b[0m \u001b[0mStopIteration\u001b[0m \u001b[0;32mas\u001b[0m \u001b[0merr\u001b[0m\u001b[0;34m:\u001b[0m\u001b[0;34m\u001b[0m\u001b[0;34m\u001b[0m\u001b[0m\n\u001b[1;32m    357\u001b[0m             \u001b[0;32mraise\u001b[0m \u001b[0mJSONDecodeError\u001b[0m\u001b[0;34m(\u001b[0m\u001b[0;34m\"Expecting value\"\u001b[0m\u001b[0;34m,\u001b[0m \u001b[0ms\u001b[0m\u001b[0;34m,\u001b[0m \u001b[0merr\u001b[0m\u001b[0;34m.\u001b[0m\u001b[0mvalue\u001b[0m\u001b[0;34m)\u001b[0m \u001b[0;32mfrom\u001b[0m \u001b[0;32mNone\u001b[0m\u001b[0;34m\u001b[0m\u001b[0;34m\u001b[0m\u001b[0m\n",
      "\u001b[0;31mKeyboardInterrupt\u001b[0m: "
     ]
    }
   ],
   "source": [
    "tweet_numberots=0\n",
    "followerots=0\n",
    "retweetots=0\n",
    "hourots = []\n",
    "tweethourots=0\n",
    "with open('ECE219_tweet_data/tweets_#patriots.txt', 'r') as file4:\n",
    "     for line in file4:\n",
    "        data4 = json.loads(line)\n",
    "        posttime4 = data4['citation_date']\n",
    "        retweet4=data4['metrics']['citations']['total']\n",
    "        follower4=data4['author']['followers']\n",
    "        hourots.append(posttime4)\n",
    "        tweet_numberots=tweet_numberots + 1\n",
    "        followerots=follower4+followerots\n",
    "        retweetots=retweet4+retweetots\n",
    "max4=max(hourots)\n",
    "min4=min(hourots)\n",
    "tweethourots=tweethourots+((max4-min4)/3600)\n",
    "print('statistics for patriots.txt')\n",
    "print ('Average number of tweets per hour:' + str(tweet_numberots/tweethourots))\n",
    "print ('Average number of followers:'+ str(followerots/tweet_numberots))\n",
    "print ('Average number of retweets:' + str(retweetots/tweet_numberots))"
   ]
  },
  {
   "cell_type": "code",
   "execution_count": null,
   "metadata": {},
   "outputs": [],
   "source": [
    "tweet_numbersb=0\n",
    "followersb=0\n",
    "retweetsb=0\n",
    "hoursb = []\n",
    "tweethoursb=0\n",
    "with open('ECE219_tweet_data/tweets_#sb49.txt', 'r') as file5:\n",
    "     for line in file5:\n",
    "        data5 = json.loads(line)\n",
    "        posttime5 = data5['citation_date']\n",
    "        retweet5=data5['metrics']['citations']['total']\n",
    "        follower5=data5['author']['followers']\n",
    "        hoursb.append(posttime5)\n",
    "        tweet_numbersb=tweet_numbersb + 1\n",
    "        followersb=follower5+followersb\n",
    "        retweetsb=retweet5+retweetsb\n",
    "max5=max(hoursb)\n",
    "min5=min(hoursb)\n",
    "tweethoursb=tweethoursb+((max5-min5)/3600)\n",
    "print('statistics for sb49.txt')\n",
    "print ('Average number of tweets per hour:' + str(tweet_numbersb/tweethoursb))\n",
    "print ('Average number of followers:'+ str(followersb/tweet_numbersb))\n",
    "print ('Average number of retweets:' + str(retweetsb/tweet_numbersb))"
   ]
  },
  {
   "cell_type": "code",
   "execution_count": null,
   "metadata": {},
   "outputs": [],
   "source": [
    "tweet_numbersup=0\n",
    "followersup=0\n",
    "retweetsup=0\n",
    "hoursup = []\n",
    "tweethoursup=0\n",
    "with open('ECE219_tweet_data/tweets_#superbowl.txt', 'r') as file6:\n",
    "     for line in file6:\n",
    "        data6 = json.loads(line)\n",
    "        posttime6 = data6['citation_date']\n",
    "        retweet6=data6['metrics']['citations']['total']\n",
    "        follower6=data6['author']['followers']\n",
    "        hoursup.append(posttime6)\n",
    "        tweet_numbersup=tweet_numbersup + 1\n",
    "        followersup=follower6+followersup\n",
    "        retweetsup=retweet6+retweetsup\n",
    "max6=max(hoursup)\n",
    "min6=min(hoursup)\n",
    "tweethoursup=tweethoursup+((max6-min6)/3600)\n",
    "print('statistics for superbowl.txt')\n",
    "print ('Average number of tweets per hour:' + str(tweet_numbersup/tweethoursup))\n",
    "print ('Average number of followers:'+ str(followersup/tweet_numbersup))\n",
    "print ('Average number of retweets:' + str(retweetsup/tweet_numbersup))"
   ]
  },
  {
   "cell_type": "code",
   "execution_count": null,
   "metadata": {
    "collapsed": true
   },
   "outputs": [],
   "source": []
  }
 ],
 "metadata": {
  "kernelspec": {
   "display_name": "Python 3",
   "language": "python",
   "name": "python3"
  },
  "language_info": {
   "codemirror_mode": {
    "name": "ipython",
    "version": 3
   },
   "file_extension": ".py",
   "mimetype": "text/x-python",
   "name": "python",
   "nbconvert_exporter": "python",
   "pygments_lexer": "ipython3",
   "version": "3.6.4"
  }
 },
 "nbformat": 4,
 "nbformat_minor": 2
}
